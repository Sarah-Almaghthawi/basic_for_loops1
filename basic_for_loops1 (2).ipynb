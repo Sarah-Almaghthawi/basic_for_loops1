{
 "cells": [
  {
   "cell_type": "code",
   "execution_count": null,
   "id": "9ccfd07a-78bd-4a82-aa47-525021baa2e8",
   "metadata": {},
   "outputs": [],
   "source": [
    "for x in range(151):\n",
    "    print(x)"
   ]
  },
  {
   "cell_type": "code",
   "execution_count": null,
   "id": "66b548aa-b21d-4ce5-b29f-9edf98cdb71a",
   "metadata": {},
   "outputs": [],
   "source": [
    "for x in range(5, 1001, 5):\n",
    "    print(x)"
   ]
  },
  {
   "cell_type": "code",
   "execution_count": null,
   "id": "af467e17-d716-4be1-95c2-53a858f3588c",
   "metadata": {},
   "outputs": [],
   "source": [
    "for x in range(1, 101):\n",
    "    if x % 10 == 0:\n",
    "        print(\"Coding dojo\")\n",
    "    elif x % 5 == 0:\n",
    "        print(\"Coding\")\n",
    "    else:\n",
    "        print(x)"
   ]
  },
  {
   "cell_type": "code",
   "execution_count": null,
   "id": "839338ca-5d07-4018-8def-8d2169256eb3",
   "metadata": {},
   "outputs": [],
   "source": [
    "sum = 0\n",
    "for x in range(500001):\n",
    "     if x % 2 != 0:\n",
    "            sum += x\n",
    "            print(sum)"
   ]
  },
  {
   "cell_type": "code",
   "execution_count": null,
   "id": "389a5d48-e3ce-4375-b728-78f7dbdc617c",
   "metadata": {},
   "outputs": [],
   "source": [
    "for x in range(2018, 0, -4):\n",
    "    if x > 0:\n",
    "        print(x)"
   ]
  },
  {
   "cell_type": "code",
   "execution_count": null,
   "id": "1ab6f396-881b-4364-81dd-c9a1d375b52e",
   "metadata": {},
   "outputs": [],
   "source": [
    "lowNum = 2\n",
    "highNum = 9\n",
    "mult = 3\n",
    "for x in range(lowNum, highNum + 1):\n",
    "        if x % mult == 0:\n",
    "            print(x)"
   ]
  },
  {
   "cell_type": "code",
   "execution_count": null,
   "id": "f6c86c34-668d-43f6-b9be-f3c5317607e7",
   "metadata": {},
   "outputs": [],
   "source": []
  }
 ],
 "metadata": {
  "interpreter": {
   "hash": "4c0db374f82acb00cc72c13ba571ed54ff18f77c31b1a7c97bfec3f4b2a137b6"
  },
  "kernelspec": {
   "display_name": "Python 3",
   "language": "python",
   "name": "python3"
  },
  "language_info": {
   "codemirror_mode": {
    "name": "ipython",
    "version": 3
   },
   "file_extension": ".py",
   "mimetype": "text/x-python",
   "name": "python",
   "nbconvert_exporter": "python",
   "pygments_lexer": "ipython3",
   "version": "3.8.8"
  }
 },
 "nbformat": 4,
 "nbformat_minor": 5
}
